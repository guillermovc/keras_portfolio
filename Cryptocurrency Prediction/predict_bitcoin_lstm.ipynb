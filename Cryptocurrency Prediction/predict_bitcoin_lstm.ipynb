{
 "cells": [
  {
   "cell_type": "markdown",
   "metadata": {},
   "source": [
    "# Predicting Cryptocurrency price using LSTM"
   ]
  },
  {
   "cell_type": "markdown",
   "metadata": {},
   "source": [
    "## Get data\n",
    "We will use the `get_data.py` script that is prepared to get data from a given crypto since given date"
   ]
  },
  {
   "cell_type": "code",
   "execution_count": 1,
   "metadata": {},
   "outputs": [
    {
     "name": "stdout",
     "output_type": "stream",
     "text": [
      "BTC\n",
      "[*********************100%%**********************]  1 of 1 completed\n",
      "<class 'pandas.core.frame.DataFrame'>\n",
      "                  Open        High  ...   Adj Close    Volume\n",
      "Date                                ...                      \n",
      "2014-09-17  465.864014  468.174011  ...  457.334015  21056800\n",
      "2014-09-18  456.859985  456.859985  ...  424.440002  34483200\n",
      "2014-09-19  424.102997  427.834991  ...  394.795990  37919700\n",
      "2014-09-20  394.673004  423.295990  ...  408.903992  36863600\n",
      "2014-09-21  408.084991  412.425995  ...  398.821014  26580100\n",
      "\n",
      "[5 rows x 6 columns]\n"
     ]
    }
   ],
   "source": [
    "!python3 get_data.py --crypto-name BTC --start-date 2014-1-1 --save-path btc-usd_data.parquet"
   ]
  },
  {
   "cell_type": "markdown",
   "metadata": {},
   "source": [
    "## Load data"
   ]
  },
  {
   "cell_type": "code",
   "execution_count": 2,
   "metadata": {},
   "outputs": [],
   "source": [
    "import pandas as pd\n",
    "import numpy as np\n",
    "\n",
    "import matplotlib.pyplot as plt\n",
    "import seaborn as sns"
   ]
  },
  {
   "cell_type": "code",
   "execution_count": 3,
   "metadata": {},
   "outputs": [
    {
     "data": {
      "text/html": [
       "<div>\n",
       "<style scoped>\n",
       "    .dataframe tbody tr th:only-of-type {\n",
       "        vertical-align: middle;\n",
       "    }\n",
       "\n",
       "    .dataframe tbody tr th {\n",
       "        vertical-align: top;\n",
       "    }\n",
       "\n",
       "    .dataframe thead th {\n",
       "        text-align: right;\n",
       "    }\n",
       "</style>\n",
       "<table border=\"1\" class=\"dataframe\">\n",
       "  <thead>\n",
       "    <tr style=\"text-align: right;\">\n",
       "      <th></th>\n",
       "      <th>Open</th>\n",
       "      <th>High</th>\n",
       "      <th>Low</th>\n",
       "      <th>Close</th>\n",
       "      <th>Adj Close</th>\n",
       "      <th>Volume</th>\n",
       "    </tr>\n",
       "    <tr>\n",
       "      <th>Date</th>\n",
       "      <th></th>\n",
       "      <th></th>\n",
       "      <th></th>\n",
       "      <th></th>\n",
       "      <th></th>\n",
       "      <th></th>\n",
       "    </tr>\n",
       "  </thead>\n",
       "  <tbody>\n",
       "    <tr>\n",
       "      <th>2014-09-17</th>\n",
       "      <td>465.864014</td>\n",
       "      <td>468.174011</td>\n",
       "      <td>452.421997</td>\n",
       "      <td>457.334015</td>\n",
       "      <td>457.334015</td>\n",
       "      <td>21056800</td>\n",
       "    </tr>\n",
       "    <tr>\n",
       "      <th>2014-09-18</th>\n",
       "      <td>456.859985</td>\n",
       "      <td>456.859985</td>\n",
       "      <td>413.104004</td>\n",
       "      <td>424.440002</td>\n",
       "      <td>424.440002</td>\n",
       "      <td>34483200</td>\n",
       "    </tr>\n",
       "    <tr>\n",
       "      <th>2014-09-19</th>\n",
       "      <td>424.102997</td>\n",
       "      <td>427.834991</td>\n",
       "      <td>384.532013</td>\n",
       "      <td>394.795990</td>\n",
       "      <td>394.795990</td>\n",
       "      <td>37919700</td>\n",
       "    </tr>\n",
       "    <tr>\n",
       "      <th>2014-09-20</th>\n",
       "      <td>394.673004</td>\n",
       "      <td>423.295990</td>\n",
       "      <td>389.882996</td>\n",
       "      <td>408.903992</td>\n",
       "      <td>408.903992</td>\n",
       "      <td>36863600</td>\n",
       "    </tr>\n",
       "    <tr>\n",
       "      <th>2014-09-21</th>\n",
       "      <td>408.084991</td>\n",
       "      <td>412.425995</td>\n",
       "      <td>393.181000</td>\n",
       "      <td>398.821014</td>\n",
       "      <td>398.821014</td>\n",
       "      <td>26580100</td>\n",
       "    </tr>\n",
       "    <tr>\n",
       "      <th>...</th>\n",
       "      <td>...</td>\n",
       "      <td>...</td>\n",
       "      <td>...</td>\n",
       "      <td>...</td>\n",
       "      <td>...</td>\n",
       "      <td>...</td>\n",
       "    </tr>\n",
       "    <tr>\n",
       "      <th>2024-05-10</th>\n",
       "      <td>63055.191406</td>\n",
       "      <td>63446.742188</td>\n",
       "      <td>60208.781250</td>\n",
       "      <td>60792.777344</td>\n",
       "      <td>60792.777344</td>\n",
       "      <td>27804954694</td>\n",
       "    </tr>\n",
       "    <tr>\n",
       "      <th>2024-05-11</th>\n",
       "      <td>60793.355469</td>\n",
       "      <td>61451.152344</td>\n",
       "      <td>60492.625000</td>\n",
       "      <td>60793.710938</td>\n",
       "      <td>60793.710938</td>\n",
       "      <td>13842272968</td>\n",
       "    </tr>\n",
       "    <tr>\n",
       "      <th>2024-05-12</th>\n",
       "      <td>60793.503906</td>\n",
       "      <td>61818.156250</td>\n",
       "      <td>60632.601562</td>\n",
       "      <td>61448.394531</td>\n",
       "      <td>61448.394531</td>\n",
       "      <td>13800459405</td>\n",
       "    </tr>\n",
       "    <tr>\n",
       "      <th>2024-05-13</th>\n",
       "      <td>61451.218750</td>\n",
       "      <td>63422.660156</td>\n",
       "      <td>60769.839844</td>\n",
       "      <td>62901.449219</td>\n",
       "      <td>62901.449219</td>\n",
       "      <td>27889181179</td>\n",
       "    </tr>\n",
       "    <tr>\n",
       "      <th>2024-05-14</th>\n",
       "      <td>62914.046875</td>\n",
       "      <td>63056.210938</td>\n",
       "      <td>61128.417969</td>\n",
       "      <td>61647.687500</td>\n",
       "      <td>61647.687500</td>\n",
       "      <td>28357836800</td>\n",
       "    </tr>\n",
       "  </tbody>\n",
       "</table>\n",
       "<p>3528 rows × 6 columns</p>\n",
       "</div>"
      ],
      "text/plain": [
       "                    Open          High           Low         Close  \\\n",
       "Date                                                                 \n",
       "2014-09-17    465.864014    468.174011    452.421997    457.334015   \n",
       "2014-09-18    456.859985    456.859985    413.104004    424.440002   \n",
       "2014-09-19    424.102997    427.834991    384.532013    394.795990   \n",
       "2014-09-20    394.673004    423.295990    389.882996    408.903992   \n",
       "2014-09-21    408.084991    412.425995    393.181000    398.821014   \n",
       "...                  ...           ...           ...           ...   \n",
       "2024-05-10  63055.191406  63446.742188  60208.781250  60792.777344   \n",
       "2024-05-11  60793.355469  61451.152344  60492.625000  60793.710938   \n",
       "2024-05-12  60793.503906  61818.156250  60632.601562  61448.394531   \n",
       "2024-05-13  61451.218750  63422.660156  60769.839844  62901.449219   \n",
       "2024-05-14  62914.046875  63056.210938  61128.417969  61647.687500   \n",
       "\n",
       "               Adj Close       Volume  \n",
       "Date                                   \n",
       "2014-09-17    457.334015     21056800  \n",
       "2014-09-18    424.440002     34483200  \n",
       "2014-09-19    394.795990     37919700  \n",
       "2014-09-20    408.903992     36863600  \n",
       "2014-09-21    398.821014     26580100  \n",
       "...                  ...          ...  \n",
       "2024-05-10  60792.777344  27804954694  \n",
       "2024-05-11  60793.710938  13842272968  \n",
       "2024-05-12  61448.394531  13800459405  \n",
       "2024-05-13  62901.449219  27889181179  \n",
       "2024-05-14  61647.687500  28357836800  \n",
       "\n",
       "[3528 rows x 6 columns]"
      ]
     },
     "execution_count": 3,
     "metadata": {},
     "output_type": "execute_result"
    }
   ],
   "source": [
    "data = pd.read_parquet(\"data/btc-usd_data.parquet\")\n",
    "data"
   ]
  },
  {
   "cell_type": "markdown",
   "metadata": {},
   "source": [
    "## Split data\n",
    "\n",
    "We are going to use data between 2014 and 2022 for training and between 2022 and 2023 for testing"
   ]
  },
  {
   "cell_type": "code",
   "execution_count": 4,
   "metadata": {},
   "outputs": [],
   "source": [
    "train = data[:\"2022\"][\"Close\"]\n",
    "test = data[\"2022\":\"2023\"][\"Close\"]"
   ]
  },
  {
   "cell_type": "code",
   "execution_count": 35,
   "metadata": {},
   "outputs": [
    {
     "data": {
      "text/plain": [
       "Date\n",
       "2014-09-17      457.334015\n",
       "2014-09-18      424.440002\n",
       "2014-09-19      394.795990\n",
       "2014-09-20      408.903992\n",
       "2014-09-21      398.821014\n",
       "                  ...     \n",
       "2022-12-27    16717.173828\n",
       "2022-12-28    16552.572266\n",
       "2022-12-29    16642.341797\n",
       "2022-12-30    16602.585938\n",
       "2022-12-31    16547.496094\n",
       "Name: Close, Length: 3028, dtype: float64"
      ]
     },
     "execution_count": 35,
     "metadata": {},
     "output_type": "execute_result"
    }
   ],
   "source": [
    "train"
   ]
  },
  {
   "cell_type": "code",
   "execution_count": 5,
   "metadata": {},
   "outputs": [
    {
     "data": {
      "text/plain": [
       "Date\n",
       "2022-01-01    47686.812500\n",
       "2022-01-02    47345.218750\n",
       "2022-01-03    46458.117188\n",
       "2022-01-04    45897.574219\n",
       "2022-01-05    43569.003906\n",
       "                  ...     \n",
       "2023-12-27    43442.855469\n",
       "2023-12-28    42627.855469\n",
       "2023-12-29    42099.402344\n",
       "2023-12-30    42156.902344\n",
       "2023-12-31    42265.187500\n",
       "Name: Close, Length: 730, dtype: float64"
      ]
     },
     "execution_count": 5,
     "metadata": {},
     "output_type": "execute_result"
    }
   ],
   "source": [
    "test"
   ]
  },
  {
   "cell_type": "markdown",
   "metadata": {},
   "source": [
    "## Preprocess data"
   ]
  },
  {
   "cell_type": "markdown",
   "metadata": {},
   "source": [
    "### Scale to 0-1 range"
   ]
  },
  {
   "cell_type": "code",
   "execution_count": 7,
   "metadata": {},
   "outputs": [],
   "source": [
    "from sklearn.preprocessing import MinMaxScaler\n",
    "\n",
    "scaler = MinMaxScaler(feature_range=(0, 1))\n",
    "train_scaled = scaler.fit_transform(train.values.reshape(-1, 1))"
   ]
  },
  {
   "cell_type": "code",
   "execution_count": 8,
   "metadata": {},
   "outputs": [
    {
     "data": {
      "text/plain": [
       "array([[0.00414359],\n",
       "       [0.00365546],\n",
       "       [0.00321557],\n",
       "       ...,\n",
       "       [0.24431741],\n",
       "       [0.24372746],\n",
       "       [0.24290997]])"
      ]
     },
     "execution_count": 8,
     "metadata": {},
     "output_type": "execute_result"
    }
   ],
   "source": [
    "train_scaled"
   ]
  },
  {
   "cell_type": "code",
   "execution_count": 9,
   "metadata": {},
   "outputs": [
    {
     "data": {
      "text/plain": [
       "(0.0, 1.0)"
      ]
     },
     "execution_count": 9,
     "metadata": {},
     "output_type": "execute_result"
    }
   ],
   "source": [
    "train_scaled.min(), train_scaled.max()"
   ]
  },
  {
   "cell_type": "markdown",
   "metadata": {},
   "source": [
    "### Generate batches of N days"
   ]
  },
  {
   "cell_type": "code",
   "execution_count": 10,
   "metadata": {},
   "outputs": [],
   "source": [
    "prediction_days = 60\n",
    "\n",
    "X_train, y_train = [], []\n",
    "\n",
    "for x in range(prediction_days, len(train_scaled)):\n",
    "    X_train.append(train_scaled[x-prediction_days:x, 0])\n",
    "    y_train.append(train_scaled[x, 0])\n",
    "\n",
    "X_train, y_train = np.array(X_train), np.array(y_train)\n",
    "X_train = np.reshape(X_train, (X_train.shape[0], X_train.shape[1], 1))"
   ]
  },
  {
   "cell_type": "code",
   "execution_count": 20,
   "metadata": {},
   "outputs": [
    {
     "data": {
      "text/plain": [
       "(2968, 60, 1)"
      ]
     },
     "execution_count": 20,
     "metadata": {},
     "output_type": "execute_result"
    }
   ],
   "source": [
    "X_train.shape"
   ]
  },
  {
   "cell_type": "markdown",
   "metadata": {},
   "source": [
    "## Create the model"
   ]
  },
  {
   "cell_type": "code",
   "execution_count": 64,
   "metadata": {},
   "outputs": [],
   "source": [
    "from tensorflow.keras.layers import Dense, Dropout, LSTM\n",
    "from tensorflow.keras.models import Sequential\n",
    "from tensorflow.keras.optimizers import Adam, SGD, RMSprop\n",
    "\n",
    "model = Sequential()\n",
    "\n",
    "model.add(LSTM(units=32, return_sequences=True, input_shape=(X_train.shape[1], 1)))\n",
    "model.add(Dropout(0.2))\n",
    "model.add(LSTM(units=32, return_sequences=True))\n",
    "model.add(Dropout(0.2))\n",
    "model.add(LSTM(units=32, return_sequences=True))\n",
    "model.add(Dropout(0.2))\n",
    "model.add(LSTM(units=32, return_sequences=False))\n",
    "model.add(Dropout(0.2))\n",
    "model.add(Dense(units=1))\n",
    "\n",
    "model.compile(optimizer=Adam(learning_rate=0.0005), loss=\"mse\",\n",
    "              metrics=[\"mse\", \"mae\"])"
   ]
  },
  {
   "cell_type": "code",
   "execution_count": 65,
   "metadata": {},
   "outputs": [
    {
     "name": "stdout",
     "output_type": "stream",
     "text": [
      "Model: \"sequential_17\"\n",
      "_________________________________________________________________\n",
      " Layer (type)                Output Shape              Param #   \n",
      "=================================================================\n",
      " lstm_44 (LSTM)              (None, 60, 32)            4352      \n",
      "                                                                 \n",
      " dropout_34 (Dropout)        (None, 60, 32)            0         \n",
      "                                                                 \n",
      " lstm_45 (LSTM)              (None, 60, 32)            8320      \n",
      "                                                                 \n",
      " dropout_35 (Dropout)        (None, 60, 32)            0         \n",
      "                                                                 \n",
      " lstm_46 (LSTM)              (None, 60, 32)            8320      \n",
      "                                                                 \n",
      " dropout_36 (Dropout)        (None, 60, 32)            0         \n",
      "                                                                 \n",
      " lstm_47 (LSTM)              (None, 32)                8320      \n",
      "                                                                 \n",
      " dropout_37 (Dropout)        (None, 32)                0         \n",
      "                                                                 \n",
      " dense_8 (Dense)             (None, 1)                 33        \n",
      "                                                                 \n",
      "=================================================================\n",
      "Total params: 29345 (114.63 KB)\n",
      "Trainable params: 29345 (114.63 KB)\n",
      "Non-trainable params: 0 (0.00 Byte)\n",
      "_________________________________________________________________\n"
     ]
    }
   ],
   "source": [
    "model.summary()"
   ]
  },
  {
   "cell_type": "code",
   "execution_count": 66,
   "metadata": {},
   "outputs": [
    {
     "name": "stdout",
     "output_type": "stream",
     "text": [
      "Epoch 1/100\n",
      "93/93 [==============================] - 13s 25ms/step - loss: 0.0110 - mse: 0.0110 - mae: 0.0568\n",
      "Epoch 2/100\n",
      "93/93 [==============================] - 2s 22ms/step - loss: 0.0034 - mse: 0.0034 - mae: 0.0319\n",
      "Epoch 3/100\n",
      "93/93 [==============================] - 2s 23ms/step - loss: 0.0029 - mse: 0.0029 - mae: 0.0287\n",
      "Epoch 4/100\n",
      "93/93 [==============================] - 2s 23ms/step - loss: 0.0028 - mse: 0.0028 - mae: 0.0291\n",
      "Epoch 5/100\n",
      "93/93 [==============================] - 2s 23ms/step - loss: 0.0029 - mse: 0.0029 - mae: 0.0294\n",
      "Epoch 6/100\n",
      "93/93 [==============================] - 2s 23ms/step - loss: 0.0025 - mse: 0.0025 - mae: 0.0271\n",
      "Epoch 7/100\n",
      "93/93 [==============================] - 2s 23ms/step - loss: 0.0024 - mse: 0.0024 - mae: 0.0270\n",
      "Epoch 8/100\n",
      "93/93 [==============================] - 2s 23ms/step - loss: 0.0024 - mse: 0.0024 - mae: 0.0271\n",
      "Epoch 9/100\n",
      "93/93 [==============================] - 12s 126ms/step - loss: 0.0022 - mse: 0.0022 - mae: 0.0255\n",
      "Epoch 10/100\n",
      "93/93 [==============================] - 2s 20ms/step - loss: 0.0022 - mse: 0.0022 - mae: 0.0265\n",
      "Epoch 11/100\n",
      "93/93 [==============================] - 2s 23ms/step - loss: 0.0024 - mse: 0.0024 - mae: 0.0269\n",
      "Epoch 12/100\n",
      "93/93 [==============================] - 2s 21ms/step - loss: 0.0020 - mse: 0.0020 - mae: 0.0256\n",
      "Epoch 13/100\n",
      "93/93 [==============================] - 2s 21ms/step - loss: 0.0021 - mse: 0.0021 - mae: 0.0256\n",
      "Epoch 14/100\n",
      "93/93 [==============================] - 2s 20ms/step - loss: 0.0020 - mse: 0.0020 - mae: 0.0244\n",
      "Epoch 15/100\n",
      "93/93 [==============================] - 2s 21ms/step - loss: 0.0019 - mse: 0.0019 - mae: 0.0237\n",
      "Epoch 16/100\n",
      "93/93 [==============================] - 2s 20ms/step - loss: 0.0021 - mse: 0.0021 - mae: 0.0253\n",
      "Epoch 17/100\n",
      "93/93 [==============================] - 2s 21ms/step - loss: 0.0018 - mse: 0.0018 - mae: 0.0233\n",
      "Epoch 18/100\n",
      "93/93 [==============================] - 2s 20ms/step - loss: 0.0019 - mse: 0.0019 - mae: 0.0243\n",
      "Epoch 19/100\n",
      "93/93 [==============================] - 2s 20ms/step - loss: 0.0019 - mse: 0.0019 - mae: 0.0254\n",
      "Epoch 20/100\n",
      "93/93 [==============================] - 2s 24ms/step - loss: 0.0018 - mse: 0.0018 - mae: 0.0241\n",
      "Epoch 21/100\n",
      "93/93 [==============================] - 2s 24ms/step - loss: 0.0017 - mse: 0.0017 - mae: 0.0229\n",
      "Epoch 22/100\n",
      "93/93 [==============================] - 2s 20ms/step - loss: 0.0016 - mse: 0.0016 - mae: 0.0226\n",
      "Epoch 23/100\n",
      "93/93 [==============================] - 2s 21ms/step - loss: 0.0016 - mse: 0.0016 - mae: 0.0229\n",
      "Epoch 24/100\n",
      "93/93 [==============================] - 2s 23ms/step - loss: 0.0015 - mse: 0.0015 - mae: 0.0227\n",
      "Epoch 25/100\n",
      "93/93 [==============================] - 2s 21ms/step - loss: 0.0015 - mse: 0.0015 - mae: 0.0221\n",
      "Epoch 26/100\n",
      "93/93 [==============================] - 2s 21ms/step - loss: 0.0016 - mse: 0.0016 - mae: 0.0224\n",
      "Epoch 27/100\n",
      "93/93 [==============================] - 2s 19ms/step - loss: 0.0014 - mse: 0.0014 - mae: 0.0218\n",
      "Epoch 28/100\n",
      "93/93 [==============================] - 2s 21ms/step - loss: 0.0014 - mse: 0.0014 - mae: 0.0216\n",
      "Epoch 29/100\n",
      "93/93 [==============================] - 2s 19ms/step - loss: 0.0014 - mse: 0.0014 - mae: 0.0215\n",
      "Epoch 30/100\n",
      "93/93 [==============================] - 2s 21ms/step - loss: 0.0014 - mse: 0.0014 - mae: 0.0220\n",
      "Epoch 31/100\n",
      "93/93 [==============================] - 2s 21ms/step - loss: 0.0014 - mse: 0.0014 - mae: 0.0215\n",
      "Epoch 32/100\n",
      "93/93 [==============================] - 2s 19ms/step - loss: 0.0015 - mse: 0.0015 - mae: 0.0220\n",
      "Epoch 33/100\n",
      "93/93 [==============================] - 2s 21ms/step - loss: 0.0014 - mse: 0.0014 - mae: 0.0220\n",
      "Epoch 34/100\n",
      "93/93 [==============================] - 2s 20ms/step - loss: 0.0016 - mse: 0.0016 - mae: 0.0232\n",
      "Epoch 35/100\n",
      "93/93 [==============================] - 2s 19ms/step - loss: 0.0013 - mse: 0.0013 - mae: 0.0221\n",
      "Epoch 36/100\n",
      "93/93 [==============================] - 2s 20ms/step - loss: 0.0014 - mse: 0.0014 - mae: 0.0216\n",
      "Epoch 37/100\n",
      "93/93 [==============================] - 2s 20ms/step - loss: 0.0014 - mse: 0.0014 - mae: 0.0223\n",
      "Epoch 38/100\n",
      "93/93 [==============================] - 2s 19ms/step - loss: 0.0014 - mse: 0.0014 - mae: 0.0219\n",
      "Epoch 39/100\n",
      "93/93 [==============================] - 2s 19ms/step - loss: 0.0012 - mse: 0.0012 - mae: 0.0206\n",
      "Epoch 40/100\n",
      "93/93 [==============================] - 2s 19ms/step - loss: 0.0014 - mse: 0.0014 - mae: 0.0222\n",
      "Epoch 41/100\n",
      "93/93 [==============================] - 3s 31ms/step - loss: 0.0012 - mse: 0.0012 - mae: 0.0205\n",
      "Epoch 42/100\n",
      "93/93 [==============================] - 2s 19ms/step - loss: 0.0013 - mse: 0.0013 - mae: 0.0217\n",
      "Epoch 43/100\n",
      "93/93 [==============================] - 2s 19ms/step - loss: 0.0013 - mse: 0.0013 - mae: 0.0216\n",
      "Epoch 44/100\n",
      "93/93 [==============================] - 2s 19ms/step - loss: 0.0012 - mse: 0.0012 - mae: 0.0209\n",
      "Epoch 45/100\n",
      "93/93 [==============================] - 2s 19ms/step - loss: 0.0013 - mse: 0.0013 - mae: 0.0218\n",
      "Epoch 46/100\n",
      "93/93 [==============================] - 2s 19ms/step - loss: 0.0013 - mse: 0.0013 - mae: 0.0217\n",
      "Epoch 47/100\n",
      "93/93 [==============================] - 3s 32ms/step - loss: 0.0012 - mse: 0.0012 - mae: 0.0210\n",
      "Epoch 48/100\n",
      "93/93 [==============================] - 2s 19ms/step - loss: 0.0012 - mse: 0.0012 - mae: 0.0208\n",
      "Epoch 49/100\n",
      "93/93 [==============================] - 2s 19ms/step - loss: 0.0013 - mse: 0.0013 - mae: 0.0212\n",
      "Epoch 50/100\n",
      "93/93 [==============================] - 2s 19ms/step - loss: 0.0014 - mse: 0.0014 - mae: 0.0226\n",
      "Epoch 51/100\n",
      "93/93 [==============================] - 2s 19ms/step - loss: 0.0012 - mse: 0.0012 - mae: 0.0211\n",
      "Epoch 52/100\n",
      "93/93 [==============================] - 2s 19ms/step - loss: 0.0011 - mse: 0.0011 - mae: 0.0206\n",
      "Epoch 53/100\n",
      "93/93 [==============================] - 2s 23ms/step - loss: 0.0012 - mse: 0.0012 - mae: 0.0211\n",
      "Epoch 54/100\n",
      "93/93 [==============================] - 2s 19ms/step - loss: 0.0011 - mse: 0.0011 - mae: 0.0207\n",
      "Epoch 55/100\n",
      "93/93 [==============================] - 2s 19ms/step - loss: 0.0012 - mse: 0.0012 - mae: 0.0214\n",
      "Epoch 56/100\n",
      "93/93 [==============================] - 2s 20ms/step - loss: 0.0011 - mse: 0.0011 - mae: 0.0206\n",
      "Epoch 57/100\n",
      "93/93 [==============================] - 2s 19ms/step - loss: 0.0011 - mse: 0.0011 - mae: 0.0203\n",
      "Epoch 58/100\n",
      "93/93 [==============================] - 2s 20ms/step - loss: 0.0010 - mse: 0.0010 - mae: 0.0198\n",
      "Epoch 59/100\n",
      "93/93 [==============================] - 2s 20ms/step - loss: 0.0012 - mse: 0.0012 - mae: 0.0207\n",
      "Epoch 60/100\n",
      "93/93 [==============================] - 2s 19ms/step - loss: 0.0013 - mse: 0.0013 - mae: 0.0220\n",
      "Epoch 61/100\n",
      "93/93 [==============================] - 2s 19ms/step - loss: 0.0011 - mse: 0.0011 - mae: 0.0206\n",
      "Epoch 62/100\n",
      "93/93 [==============================] - 2s 20ms/step - loss: 0.0011 - mse: 0.0011 - mae: 0.0208\n",
      "Epoch 63/100\n",
      "93/93 [==============================] - 2s 19ms/step - loss: 0.0011 - mse: 0.0011 - mae: 0.0204\n",
      "Epoch 64/100\n",
      "93/93 [==============================] - 2s 19ms/step - loss: 0.0011 - mse: 0.0011 - mae: 0.0200\n",
      "Epoch 65/100\n",
      "93/93 [==============================] - 2s 20ms/step - loss: 0.0012 - mse: 0.0012 - mae: 0.0209\n",
      "Epoch 66/100\n",
      "93/93 [==============================] - 2s 19ms/step - loss: 0.0011 - mse: 0.0011 - mae: 0.0206\n",
      "Epoch 67/100\n",
      "93/93 [==============================] - 2s 19ms/step - loss: 0.0011 - mse: 0.0011 - mae: 0.0203\n",
      "Epoch 68/100\n",
      "93/93 [==============================] - 2s 19ms/step - loss: 0.0011 - mse: 0.0011 - mae: 0.0205\n",
      "Epoch 69/100\n",
      "93/93 [==============================] - 2s 19ms/step - loss: 0.0011 - mse: 0.0011 - mae: 0.0200\n",
      "Epoch 70/100\n",
      "93/93 [==============================] - 2s 19ms/step - loss: 0.0011 - mse: 0.0011 - mae: 0.0210\n",
      "Epoch 71/100\n",
      "93/93 [==============================] - 2s 20ms/step - loss: 0.0012 - mse: 0.0012 - mae: 0.0217\n",
      "Epoch 72/100\n",
      "93/93 [==============================] - 2s 21ms/step - loss: 0.0011 - mse: 0.0011 - mae: 0.0202\n",
      "Epoch 73/100\n",
      "93/93 [==============================] - 2s 24ms/step - loss: 0.0011 - mse: 0.0011 - mae: 0.0201\n",
      "Epoch 74/100\n",
      "93/93 [==============================] - 2s 25ms/step - loss: 0.0011 - mse: 0.0011 - mae: 0.0204\n",
      "Epoch 75/100\n",
      "93/93 [==============================] - 2s 23ms/step - loss: 0.0011 - mse: 0.0011 - mae: 0.0206\n",
      "Epoch 76/100\n",
      "93/93 [==============================] - 2s 24ms/step - loss: 0.0010 - mse: 0.0010 - mae: 0.0198\n",
      "Epoch 77/100\n",
      "93/93 [==============================] - 2s 24ms/step - loss: 0.0011 - mse: 0.0011 - mae: 0.0203\n",
      "Epoch 78/100\n",
      "93/93 [==============================] - 2s 24ms/step - loss: 0.0012 - mse: 0.0012 - mae: 0.0209\n",
      "Epoch 79/100\n",
      "93/93 [==============================] - 2s 23ms/step - loss: 0.0011 - mse: 0.0011 - mae: 0.0206\n",
      "Epoch 80/100\n",
      "93/93 [==============================] - 2s 24ms/step - loss: 9.9841e-04 - mse: 9.9841e-04 - mae: 0.0195\n",
      "Epoch 81/100\n",
      "93/93 [==============================] - 2s 24ms/step - loss: 0.0012 - mse: 0.0012 - mae: 0.0207\n",
      "Epoch 82/100\n",
      "93/93 [==============================] - 2s 24ms/step - loss: 0.0011 - mse: 0.0011 - mae: 0.0204\n",
      "Epoch 83/100\n",
      "93/93 [==============================] - 2s 24ms/step - loss: 0.0011 - mse: 0.0011 - mae: 0.0204\n",
      "Epoch 84/100\n",
      "93/93 [==============================] - 2s 24ms/step - loss: 0.0010 - mse: 0.0010 - mae: 0.0198\n",
      "Epoch 85/100\n",
      "93/93 [==============================] - 2s 23ms/step - loss: 9.3813e-04 - mse: 9.3813e-04 - mae: 0.0194\n",
      "Epoch 86/100\n",
      "93/93 [==============================] - 2s 25ms/step - loss: 0.0010 - mse: 0.0010 - mae: 0.0196\n",
      "Epoch 87/100\n",
      "93/93 [==============================] - 2s 25ms/step - loss: 0.0010 - mse: 0.0010 - mae: 0.0204\n",
      "Epoch 88/100\n",
      "93/93 [==============================] - 2s 24ms/step - loss: 0.0010 - mse: 0.0010 - mae: 0.0200\n",
      "Epoch 89/100\n",
      "93/93 [==============================] - 2s 24ms/step - loss: 9.4427e-04 - mse: 9.4427e-04 - mae: 0.0190\n",
      "Epoch 90/100\n",
      "93/93 [==============================] - 2s 24ms/step - loss: 0.0010 - mse: 0.0010 - mae: 0.0202\n",
      "Epoch 91/100\n",
      "93/93 [==============================] - 2s 25ms/step - loss: 0.0010 - mse: 0.0010 - mae: 0.0202   \n",
      "Epoch 92/100\n",
      "93/93 [==============================] - 2s 24ms/step - loss: 9.4829e-04 - mse: 9.4829e-04 - mae: 0.0195\n",
      "Epoch 93/100\n",
      "93/93 [==============================] - 2s 25ms/step - loss: 9.4834e-04 - mse: 9.4834e-04 - mae: 0.0192\n",
      "Epoch 94/100\n",
      "93/93 [==============================] - 2s 24ms/step - loss: 9.6352e-04 - mse: 9.6352e-04 - mae: 0.0194\n",
      "Epoch 95/100\n",
      "93/93 [==============================] - 2s 24ms/step - loss: 9.3523e-04 - mse: 9.3523e-04 - mae: 0.0197\n",
      "Epoch 96/100\n",
      "93/93 [==============================] - 2s 24ms/step - loss: 9.4398e-04 - mse: 9.4398e-04 - mae: 0.0196\n",
      "Epoch 97/100\n",
      "93/93 [==============================] - 2s 24ms/step - loss: 9.9617e-04 - mse: 9.9617e-04 - mae: 0.0196\n",
      "Epoch 98/100\n",
      "93/93 [==============================] - 2s 24ms/step - loss: 9.5301e-04 - mse: 9.5301e-04 - mae: 0.0191\n",
      "Epoch 99/100\n",
      "93/93 [==============================] - 2s 25ms/step - loss: 0.0010 - mse: 0.0010 - mae: 0.0201\n",
      "Epoch 100/100\n",
      "93/93 [==============================] - 2s 25ms/step - loss: 9.0369e-04 - mse: 9.0369e-04 - mae: 0.0194\n"
     ]
    }
   ],
   "source": [
    "history1 = model.fit(X_train, y_train, epochs=100, batch_size=32)"
   ]
  },
  {
   "cell_type": "markdown",
   "metadata": {},
   "source": [
    "## Test model"
   ]
  },
  {
   "cell_type": "markdown",
   "metadata": {},
   "source": [
    "### Generate test batches"
   ]
  },
  {
   "cell_type": "code",
   "execution_count": 67,
   "metadata": {},
   "outputs": [],
   "source": [
    "test_scaled = scaler.transform(test.values.reshape(-1, 1))\n",
    "\n",
    "prediction_days = 60\n",
    "\n",
    "X_test, y_test = [], []\n",
    "\n",
    "for x in range(prediction_days, len(test_scaled)):\n",
    "    X_test.append(test_scaled[x-prediction_days:x, 0])\n",
    "    y_test.append(test_scaled[x, 0])\n",
    "\n",
    "X_test, y_test = np.array(X_test), np.array(y_test)\n",
    "X_test = np.reshape(X_test, (X_test.shape[0], X_test.shape[1], 1))"
   ]
  },
  {
   "cell_type": "code",
   "execution_count": 68,
   "metadata": {},
   "outputs": [
    {
     "name": "stdout",
     "output_type": "stream",
     "text": [
      "21/21 [==============================] - 2s 17ms/step\n"
     ]
    }
   ],
   "source": [
    "prediction = model.predict(X_test)\n",
    "prediction = scaler.inverse_transform(prediction)\n",
    "y_true = scaler.inverse_transform(y_test.reshape(-1, 1))"
   ]
  },
  {
   "cell_type": "code",
   "execution_count": 69,
   "metadata": {},
   "outputs": [
    {
     "data": {
      "text/plain": [
       "((670, 1), (670, 1))"
      ]
     },
     "execution_count": 69,
     "metadata": {},
     "output_type": "execute_result"
    }
   ],
   "source": [
    "prediction.shape, y_true.shape"
   ]
  },
  {
   "cell_type": "code",
   "execution_count": 70,
   "metadata": {},
   "outputs": [],
   "source": [
    "dates = test.iloc[60:]"
   ]
  },
  {
   "cell_type": "code",
   "execution_count": 71,
   "metadata": {},
   "outputs": [
    {
     "data": {
      "image/png": "[encoded data removed]",
      "text/plain": [
       "<Figure size 1600x600 with 1 Axes>"
      ]
     },
     "metadata": {},
     "output_type": "display_data"
    }
   ],
   "source": [
    "sns.set_style(\"darkgrid\")\n",
    "plt.figure(figsize=(16,6))\n",
    "plt.plot(dates.index.date, y_true, label=\"Actual values\", c=\"lightblue\")\n",
    "plt.plot(dates.index.date, prediction, label=\"Model prediction\", c=\"red\")\n",
    "plt.title(\"Price prediction vs Actual values\")\n",
    "plt.xlabel(\"Date\")\n",
    "plt.ylabel(\"Price (USD)\")\n",
    "plt.legend()\n",
    "plt.show()"
   ]
  },
  {
   "cell_type": "code",
   "execution_count": null,
   "metadata": {},
   "outputs": [],
   "source": []
  }
 ],
 "metadata": {
  "kernelspec": {
   "display_name": "Python 3",
   "language": "python",
   "name": "python3"
  },
  "language_info": {
   "codemirror_mode": {
    "name": "ipython",
    "version": 3
   },
   "file_extension": ".py",
   "mimetype": "text/x-python",
   "name": "python",
   "nbconvert_exporter": "python",
   "pygments_lexer": "ipython3",
   "version": "3.11.0rc1"
  }
 },
 "nbformat": 4,
 "nbformat_minor": 2
}
